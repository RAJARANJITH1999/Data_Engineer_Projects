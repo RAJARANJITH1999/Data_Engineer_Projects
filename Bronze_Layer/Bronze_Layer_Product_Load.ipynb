{
 "cells": [
  {
   "cell_type": "code",
   "execution_count": 0,
   "metadata": {
    "application/vnd.databricks.v1+cell": {
     "cellMetadata": {
      "byteLimit": 2048000,
      "rowLimit": 10000
     },
     "inputWidgets": {},
     "nuid": "db5b22e0-e52d-4ad4-ad68-51db2f8a459c",
     "showTitle": false,
     "tableResultSettingsMap": {},
     "title": ""
    }
   },
   "outputs": [
    {
     "output_type": "stream",
     "name": "stdout",
     "output_type": "stream",
     "text": [
      "+------------+-----------+---------+----------+-------+----------+------+--------------+\n|       brand|   category|is_active|      name|  price|product_id|rating|stock_quantity|\n+------------+-----------+---------+----------+-------+----------+------+--------------+\n|  BeautyGlow|       Toys|     true| Product 1| 995.73|         1|   3.5|           989|\n|GardenMaster|     Garden|     true| Product 2| 497.76|         2|   3.8|           495|\n|  BeautyGlow|Electronics|     true| Product 3| 331.63|         3|   4.6|            10|\n|     TechPro|     Beauty|    false| Product 4| 798.83|         4|   4.7|           683|\n|   HomeSmart| Automotive|    false| Product 5|-454.98|         5|   4.4|           719|\n|    BookWorm|Electronics|    false| Product 6|  645.3|         6|   2.2|           823|\n|    FashionX| Automotive|    false| Product 7| 549.08|         7|   1.1|           999|\n|     TechPro|      Books|    false| Product 8| 982.36|         8|   2.4|           542|\n|    FashionX|       Toys|     true| Product 9| 307.14|         9|   1.0|           671|\n|  BeautyGlow|     Garden|    false|Product 10| 871.38|        10|   3.4|           975|\n+------------+-----------+---------+----------+-------+----------+------+--------------+\nonly showing top 10 rows\n\n"
     ]
    }
   ],
   "source": [
    "filepath = 'dbfs:/FileStore/Global_Retail/Bronze_Layer/Product/products.json'\n",
    "df = spark.read.json(filepath)\n",
    "df.show(10)"
   ]
  },
  {
   "cell_type": "code",
   "execution_count": 0,
   "metadata": {
    "application/vnd.databricks.v1+cell": {
     "cellMetadata": {
      "byteLimit": 2048000,
      "rowLimit": 10000
     },
     "inputWidgets": {},
     "nuid": "92111509-69c2-46dc-b88e-788cbc097cf2",
     "showTitle": false,
     "tableResultSettingsMap": {},
     "title": ""
    }
   },
   "outputs": [
    {
     "output_type": "stream",
     "name": "stdout",
     "output_type": "stream",
     "text": [
      "root\n |-- brand: string (nullable = true)\n |-- category: string (nullable = true)\n |-- is_active: boolean (nullable = true)\n |-- name: string (nullable = true)\n |-- price: double (nullable = true)\n |-- product_id: long (nullable = true)\n |-- rating: double (nullable = true)\n |-- stock_quantity: string (nullable = true)\n\n"
     ]
    }
   ],
   "source": [
    "df.printSchema()"
   ]
  },
  {
   "cell_type": "code",
   "execution_count": 0,
   "metadata": {
    "application/vnd.databricks.v1+cell": {
     "cellMetadata": {
      "byteLimit": 2048000,
      "rowLimit": 10000
     },
     "inputWidgets": {},
     "nuid": "5dbfe1ad-82cb-4df6-b861-1dfced3b3358",
     "showTitle": false,
     "tableResultSettingsMap": {},
     "title": ""
    }
   },
   "outputs": [
    {
     "output_type": "stream",
     "name": "stdout",
     "output_type": "stream",
     "text": [
      "+------------+-----------+---------+----------+-------+----------+------+--------------+--------------------+\n|       brand|   category|is_active|      name|  price|product_id|rating|stock_quantity| ingestion_timestamp|\n+------------+-----------+---------+----------+-------+----------+------+--------------+--------------------+\n|  BeautyGlow|       Toys|     true| Product 1| 995.73|         1|   3.5|           989|2024-10-08 23:36:...|\n|GardenMaster|     Garden|     true| Product 2| 497.76|         2|   3.8|           495|2024-10-08 23:36:...|\n|  BeautyGlow|Electronics|     true| Product 3| 331.63|         3|   4.6|            10|2024-10-08 23:36:...|\n|     TechPro|     Beauty|    false| Product 4| 798.83|         4|   4.7|           683|2024-10-08 23:36:...|\n|   HomeSmart| Automotive|    false| Product 5|-454.98|         5|   4.4|           719|2024-10-08 23:36:...|\n|    BookWorm|Electronics|    false| Product 6|  645.3|         6|   2.2|           823|2024-10-08 23:36:...|\n|    FashionX| Automotive|    false| Product 7| 549.08|         7|   1.1|           999|2024-10-08 23:36:...|\n|     TechPro|      Books|    false| Product 8| 982.36|         8|   2.4|           542|2024-10-08 23:36:...|\n|    FashionX|       Toys|     true| Product 9| 307.14|         9|   1.0|           671|2024-10-08 23:36:...|\n|  BeautyGlow|     Garden|    false|Product 10| 871.38|        10|   3.4|           975|2024-10-08 23:36:...|\n+------------+-----------+---------+----------+-------+----------+------+--------------+--------------------+\nonly showing top 10 rows\n\n"
     ]
    }
   ],
   "source": [
    "from pyspark.sql.functions import current_timestamp\n",
    "new_df = df.withColumn(\"ingestion_timestamp\", current_timestamp())\n",
    "new_df.show(10)"
   ]
  },
  {
   "cell_type": "code",
   "execution_count": 0,
   "metadata": {
    "application/vnd.databricks.v1+cell": {
     "cellMetadata": {
      "byteLimit": 2048000,
      "rowLimit": 10000
     },
     "inputWidgets": {},
     "nuid": "306182e0-b2cf-4e15-a104-de94093edaf8",
     "showTitle": false,
     "tableResultSettingsMap": {},
     "title": ""
    }
   },
   "outputs": [],
   "source": [
    "#saving as a Table now in Delta Table\n",
    "\n",
    "spark.sql(\"use globalretail_bronze\")\n",
    "\n",
    "new_df.write \\\n",
    ".format('delta') \\\n",
    ".mode('append') \\\n",
    ".saveAsTable('bronze_product')"
   ]
  },
  {
   "cell_type": "code",
   "execution_count": 0,
   "metadata": {
    "application/vnd.databricks.v1+cell": {
     "cellMetadata": {
      "byteLimit": 2048000,
      "rowLimit": 10000
     },
     "inputWidgets": {},
     "nuid": "dd1c80b3-84f1-4698-a578-61ea10a5c865",
     "showTitle": false,
     "tableResultSettingsMap": {},
     "title": ""
    }
   },
   "outputs": [
    {
     "output_type": "stream",
     "name": "stdout",
     "output_type": "stream",
     "text": [
      "dbfs:/FileStore/Global_Retail/Bronze_Layer/Product/Archive/_20241008\n"
     ]
    }
   ],
   "source": [
    "import datetime\n",
    "archive = 'dbfs:/FileStore/Global_Retail/Bronze_Layer/Product/Archive/'\n",
    "path = archive +'_'+ datetime.datetime.now().strftime(\"%Y%m%d\")\n",
    "# dbutils.fs.mv(filepath, path)\n",
    "print(path)"
   ]
  },
  {
   "cell_type": "code",
   "execution_count": 0,
   "metadata": {
    "application/vnd.databricks.v1+cell": {
     "cellMetadata": {},
     "inputWidgets": {},
     "nuid": "fafd2d36-0aca-4653-aad5-68a3ef1b404a",
     "showTitle": false,
     "tableResultSettingsMap": {},
     "title": ""
    }
   },
   "outputs": [],
   "source": []
  }
 ],
 "metadata": {
  "application/vnd.databricks.v1+notebook": {
   "computePreferences": null,
   "dashboards": [],
   "environmentMetadata": null,
   "language": "python",
   "notebookMetadata": {
    "pythonIndentUnit": 4
   },
   "notebookName": "Bronze_Layer_Product_Load",
   "widgets": {}
  }
 },
 "nbformat": 4,
 "nbformat_minor": 0
}
